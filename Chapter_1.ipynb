{
 "cells": [
  {
   "attachments": {},
   "cell_type": "markdown",
   "metadata": {},
   "source": [
    "# G-S Algorithm"
   ]
  },
  {
   "cell_type": "code",
   "execution_count": null,
   "metadata": {},
   "outputs": [],
   "source": [
    "class Node:\n",
    "    def __init__(self, identity, gender):\n",
    "        self.id = identity\n",
    "        self.gender = gender\n",
    "        self.preferences = list()\n",
    "    \n",
    "    def addPreferences(self, person):\n",
    "        self.preferences.append(person)\n",
    "    \n",
    "    def getPreferences(self):\n",
    "        return self.preferences\n",
    "\n",
    "    def getIdentity(self):\n",
    "        return self.identity\n",
    "\n",
    "    def __lt__(self, person1, person2):\n",
    "        if self.preferences.index(person1.identity) < self.preferences.index(person2.identity):\n",
    "            return True\n",
    "        return False"
   ]
  },
  {
   "cell_type": "code",
   "execution_count": null,
   "metadata": {},
   "outputs": [],
   "source": [
    "class G_S:\n",
    "    def __init__(self):\n",
    "        self.Men = list()\n",
    "        self.Woman = list()\n",
    "    \n",
    "    def addMen(self)"
   ]
  },
  {
   "attachments": {},
   "cell_type": "markdown",
   "metadata": {},
   "source": [
    "# Genetic Algorithm"
   ]
  },
  {
   "cell_type": "code",
   "execution_count": 172,
   "metadata": {},
   "outputs": [],
   "source": [
    "class stuff:\n",
    "    def __init__(self, weight, value):\n",
    "        self.w = weight\n",
    "        self.v = value\n",
    "    \n",
    "    def __str__(self):\n",
    "        return '(' + str(self.w) + ',' + str(self.v) + ')'"
   ]
  },
  {
   "cell_type": "code",
   "execution_count": 182,
   "metadata": {},
   "outputs": [],
   "source": [
    "class parent:\n",
    "    def __init__(self, weight=0, value=0):\n",
    "        self.stuffList = list()\n",
    "        self.value = value\n",
    "        self.weight = weight\n",
    "    \n",
    "    def addStuff(self, stuff):\n",
    "        self.stuffList.append(stuff)\n",
    "        self.value += stuff.v\n",
    "        self.weight += stuff.w\n",
    "    \n",
    "    def getPoint(self, maxWeight):\n",
    "        if self.weight > maxWeight:\n",
    "            return -1\n",
    "        return self.value - (maxWeight - self.weight)\n",
    "\n",
    "    def __str__(self):\n",
    "        result = ''\n",
    "        for i in self.stuffList:\n",
    "            result += '(' + str(i.w) + ',' + str(i.v) + ')' + ' '\n",
    "        \n",
    "        return result"
   ]
  },
  {
   "cell_type": "code",
   "execution_count": 186,
   "metadata": {},
   "outputs": [],
   "source": [
    "import random\n",
    "\n",
    "class GeneticProblem:\n",
    "    def __init__(self, maxWeight=0, geneticRate=0.05, parentNum=20, num_iter=300, stuffList=None):\n",
    "        self.maxWeight = maxWeight\n",
    "        self.rate = geneticRate\n",
    "        self.parentNum = int(parentNum / 2) * 2\n",
    "        self.stuffList = stuffList\n",
    "        self.num_iter = num_iter\n",
    "    \n",
    "    def Run(self):\n",
    "        self.bestConfig = None\n",
    "        self.parentList = list()\n",
    "        if self.stuffList != None:\n",
    "            self.Genetic()\n",
    "\n",
    "        return self.bestConfig\n",
    "    \n",
    "    def Genetic(self):\n",
    "        self.generateParent()\n",
    "        \n",
    "        for _ in range(self.num_iter):\n",
    "            self.rejectParent()\n",
    "            self.crossover()\n",
    "\n",
    "    # ceate n innitial pair of parents\n",
    "    def generateParent(self, ):\n",
    "        for i in range(self.parentNum):\n",
    "            tempLength = random.randint(0, len(self.stuffList))\n",
    "            tempStuff = list(self.stuffList)\n",
    "            tempParent = parent()\n",
    "            # print(len(tempParent.stuffList))\n",
    "            for j in range(tempLength):\n",
    "                # print(j)\n",
    "                temp = random.choice(tempStuff)\n",
    "                tempParent.addStuff(temp)\n",
    "                tempStuff.remove(temp)\n",
    "            # print(len(tempParent.stuffList))\n",
    "            self.parentList.append(tempParent)\n",
    "\n",
    "    # reject n parents who have lowest point\n",
    "    def rejectParent(self, ):\n",
    "        self.parentList.sort(key=self.point, reverse=True)\n",
    "        self.parentList = self.parentList[:self.parentNum // 2]\n",
    "        self.evaluate(self.parentList[0])\n",
    "    # breeding new offspring based on 2 random parent\n",
    "    def crossover(self):\n",
    "        newParentList = list()\n",
    "        while len(self.parentList) > 0:\n",
    "            parent1 = random.choice(self.parentList)\n",
    "            self.parentList.remove(parent1)\n",
    "            parent2 = random.choice(self.parentList)\n",
    "            self.parentList.remove(parent2)\n",
    "            \n",
    "            newParentList.append(self.breeding(parent1, parent2))\n",
    "            newParentList.append(self.breeding(parent1, parent2))\n",
    "        # print()\n",
    "        self.parentList = newParentList\n",
    "        # print(len(self.parentList))\n",
    "    # store Bestconfig\n",
    "    def evaluate(self, candidate):\n",
    "        try:\n",
    "            if self.bestConfig.getPoint(self.maxWeight) < candidate.getPoint(self.maxWeight):\n",
    "                self.bestConfig = candidate\n",
    "        except:\n",
    "            self.bestConfig = candidate\n",
    "\n",
    "    def point(self, parent):\n",
    "        return parent.getPoint(self.maxWeight)\n",
    "\n",
    "    def breeding(self, p1, p2):\n",
    "        # print('1', end='')\n",
    "        # print(min(len(p1.stuffList), len(p2.stuffList)), max(len(p1.stuffList), len(p2.stuffList)))\n",
    "        data = set(p1.stuffList + p2.stuffList)\n",
    "        tempL = random.randint(min(len(p1.stuffList), len(p2.stuffList)), max(len(p1.stuffList), len(p2.stuffList)))\n",
    "        if random.random() < self.rate:\n",
    "            data.add(random.choice(self.stuffList))\n",
    "            tempL = random.randint(0, len(self.stuffList))\n",
    "            \n",
    "        data = list(data)\n",
    "        tempL = min(tempL, len(data))\n",
    "\n",
    "        sibling = parent()\n",
    "        for i in range(tempL):\n",
    "            sibling.addStuff(data.pop(random.randint(0, len(data) - 1)))\n",
    "        \n",
    "        return sibling\n",
    "\n",
    "        "
   ]
  },
  {
   "cell_type": "code",
   "execution_count": 188,
   "metadata": {},
   "outputs": [
    {
     "name": "stdout",
     "output_type": "stream",
     "text": [
      "(2,4) (6,6) (1,6)  15\n"
     ]
    }
   ],
   "source": [
    "w = [1,5,9,3,2,6]\n",
    "v = [6,4,7,2,4,6]\n",
    "stuffList = list()\n",
    "for i in range(len(w)):\n",
    "    stuffList.append(stuff(w[i], v[i]))\n",
    "genetic = GeneticProblem(maxWeight=10, stuffList=stuffList, geneticRate=0.1)\n",
    "bestConfig = genetic.Run()\n",
    "print(bestConfig, bestConfig.getPoint(10))\n"
   ]
  },
  {
   "cell_type": "code",
   "execution_count": 63,
   "metadata": {},
   "outputs": [
    {
     "name": "stdout",
     "output_type": "stream",
     "text": [
      "1\n",
      "[1, 2, 3, 4, 5, 6] [2, 3, 4, 5, 6]\n"
     ]
    }
   ],
   "source": [
    "a = [1,2,3,4,5,6]\n",
    "b = [8,67,56,97,5]\n",
    "\n",
    "c = list(set(a + b))\n",
    "print(c.pop(0))\n",
    "\n",
    "d = list(a)\n",
    "d.remove(1)\n",
    "print(a, d)"
   ]
  }
 ],
 "metadata": {
  "kernelspec": {
   "display_name": "Python 3",
   "language": "python",
   "name": "python3"
  },
  "language_info": {
   "codemirror_mode": {
    "name": "ipython",
    "version": 3
   },
   "file_extension": ".py",
   "mimetype": "text/x-python",
   "name": "python",
   "nbconvert_exporter": "python",
   "pygments_lexer": "ipython3",
   "version": "3.10.0"
  },
  "orig_nbformat": 4
 },
 "nbformat": 4,
 "nbformat_minor": 2
}
